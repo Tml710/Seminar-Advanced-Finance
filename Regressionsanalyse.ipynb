{
 "cells": [
  {
   "cell_type": "code",
   "execution_count": 3,
   "metadata": {},
   "outputs": [
    {
     "name": "stdout",
     "output_type": "stream",
     "text": [
      "Collecting linearmodels\n",
      "  Downloading linearmodels-6.1-cp39-cp39-macosx_10_9_x86_64.whl (1.7 MB)\n",
      "\u001b[2K     \u001b[90m━━━━━━━━━━━━━━━━━━━━━━━━━━━━━━━━━━━━━━━━\u001b[0m \u001b[32m1.7/1.7 MB\u001b[0m \u001b[31m9.8 MB/s\u001b[0m eta \u001b[36m0:00:00\u001b[0m:00:01\u001b[0m00:01\u001b[0m\n",
      "\u001b[?25hRequirement already satisfied: scipy>=1.8.0 in /Users/christopher/opt/anaconda3/lib/python3.9/site-packages (from linearmodels) (1.9.1)\n",
      "Requirement already satisfied: statsmodels>=0.13.0 in /Users/christopher/opt/anaconda3/lib/python3.9/site-packages (from linearmodels) (0.13.2)\n",
      "Collecting pyhdfe>=0.1\n",
      "  Downloading pyhdfe-0.2.0-py3-none-any.whl (19 kB)\n",
      "Collecting formulaic>=1.0.0\n",
      "  Downloading formulaic-1.1.1-py3-none-any.whl (115 kB)\n",
      "\u001b[2K     \u001b[90m━━━━━━━━━━━━━━━━━━━━━━━━━━━━━━━━━━━━━━━\u001b[0m \u001b[32m115.7/115.7 kB\u001b[0m \u001b[31m4.1 MB/s\u001b[0m eta \u001b[36m0:00:00\u001b[0m\n",
      "\u001b[?25hRequirement already satisfied: pandas>=1.4.0 in /Users/christopher/opt/anaconda3/lib/python3.9/site-packages (from linearmodels) (1.4.4)\n",
      "Collecting setuptools-scm[toml]<9.0.0,>=8.0.0\n",
      "  Downloading setuptools_scm-8.2.0-py3-none-any.whl (43 kB)\n",
      "\u001b[2K     \u001b[90m━━━━━━━━━━━━━━━━━━━━━━━━━━━━━━━━━━━━━━━━\u001b[0m \u001b[32m43.9/43.9 kB\u001b[0m \u001b[31m1.7 MB/s\u001b[0m eta \u001b[36m0:00:00\u001b[0m\n",
      "\u001b[?25hRequirement already satisfied: numpy<3,>=1.22.3 in /Users/christopher/opt/anaconda3/lib/python3.9/site-packages (from linearmodels) (1.23.5)\n",
      "Requirement already satisfied: mypy-extensions>=0.4 in /Users/christopher/opt/anaconda3/lib/python3.9/site-packages (from linearmodels) (0.4.3)\n",
      "Collecting Cython>=3.0.10\n",
      "  Downloading Cython-3.0.12-cp39-cp39-macosx_10_9_x86_64.whl (3.3 MB)\n",
      "\u001b[2K     \u001b[90m━━━━━━━━━━━━━━━━━━━━━━━━━━━━━━━━━━━━━━━━\u001b[0m \u001b[32m3.3/3.3 MB\u001b[0m \u001b[31m13.0 MB/s\u001b[0m eta \u001b[36m0:00:00\u001b[0m00:01\u001b[0m00:01\u001b[0m\n",
      "\u001b[?25hRequirement already satisfied: typing-extensions>=4.2.0 in /Users/christopher/opt/anaconda3/lib/python3.9/site-packages (from formulaic>=1.0.0->linearmodels) (4.3.0)\n",
      "Collecting interface-meta>=1.2.0\n",
      "  Downloading interface_meta-1.3.0-py3-none-any.whl (14 kB)\n",
      "Requirement already satisfied: wrapt>=1.0 in /Users/christopher/opt/anaconda3/lib/python3.9/site-packages (from formulaic>=1.0.0->linearmodels) (1.14.1)\n",
      "Requirement already satisfied: python-dateutil>=2.8.1 in /Users/christopher/opt/anaconda3/lib/python3.9/site-packages (from pandas>=1.4.0->linearmodels) (2.8.2)\n",
      "Requirement already satisfied: pytz>=2020.1 in /Users/christopher/opt/anaconda3/lib/python3.9/site-packages (from pandas>=1.4.0->linearmodels) (2023.3)\n",
      "Requirement already satisfied: tomli>=1 in /Users/christopher/opt/anaconda3/lib/python3.9/site-packages (from setuptools-scm[toml]<9.0.0,>=8.0.0->linearmodels) (2.0.1)\n",
      "Requirement already satisfied: setuptools>=61 in /Users/christopher/opt/anaconda3/lib/python3.9/site-packages (from setuptools-scm[toml]<9.0.0,>=8.0.0->linearmodels) (63.4.1)\n",
      "Requirement already satisfied: packaging>=20 in /Users/christopher/opt/anaconda3/lib/python3.9/site-packages (from setuptools-scm[toml]<9.0.0,>=8.0.0->linearmodels) (21.3)\n",
      "Requirement already satisfied: patsy>=0.5.2 in /Users/christopher/opt/anaconda3/lib/python3.9/site-packages (from statsmodels>=0.13.0->linearmodels) (0.5.2)\n",
      "Requirement already satisfied: pyparsing!=3.0.5,>=2.0.2 in /Users/christopher/opt/anaconda3/lib/python3.9/site-packages (from packaging>=20->setuptools-scm[toml]<9.0.0,>=8.0.0->linearmodels) (3.0.9)\n",
      "Requirement already satisfied: six in /Users/christopher/opt/anaconda3/lib/python3.9/site-packages (from patsy>=0.5.2->statsmodels>=0.13.0->linearmodels) (1.16.0)\n",
      "Installing collected packages: interface-meta, Cython, setuptools-scm, pyhdfe, formulaic, linearmodels\n",
      "  Attempting uninstall: Cython\n",
      "    Found existing installation: Cython 0.29.32\n",
      "    Uninstalling Cython-0.29.32:\n",
      "      Successfully uninstalled Cython-0.29.32\n",
      "Successfully installed Cython-3.0.12 formulaic-1.1.1 interface-meta-1.3.0 linearmodels-6.1 pyhdfe-0.2.0 setuptools-scm-8.2.0\n",
      "Note: you may need to restart the kernel to use updated packages.\n"
     ]
    }
   ],
   "source": [
    "%pip install linearmodels"
   ]
  },
  {
   "cell_type": "code",
   "execution_count": 11,
   "metadata": {},
   "outputs": [],
   "source": [
    "from linearmodels.panel import PanelOLS\n",
    "import pandas as pd"
   ]
  },
  {
   "cell_type": "code",
   "execution_count": null,
   "metadata": {},
   "outputs": [],
   "source": [
    "# Specify the input file path for macOS\n",
    "input_file = '/Users/christopher/Desktop/Seminar-Advanced-Finance/Total_data.csv'\n",
    "\n",
    "# Read the CSV file\n",
    "stocks_df = pd.read_csv(input_file)"
   ]
  },
  {
   "cell_type": "markdown",
   "metadata": {},
   "source": [
    "https://stackoverflow.com/questions/69260530/panel-data-regression-with-fixed-effects-using-python"
   ]
  }
 ],
 "metadata": {
  "kernelspec": {
   "display_name": "base",
   "language": "python",
   "name": "python3"
  },
  "language_info": {
   "codemirror_mode": {
    "name": "ipython",
    "version": 3
   },
   "file_extension": ".py",
   "mimetype": "text/x-python",
   "name": "python",
   "nbconvert_exporter": "python",
   "pygments_lexer": "ipython3",
   "version": "3.9.13"
  }
 },
 "nbformat": 4,
 "nbformat_minor": 2
}
