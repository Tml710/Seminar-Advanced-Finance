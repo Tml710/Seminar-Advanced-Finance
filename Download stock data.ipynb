{
 "cells": [
  {
   "cell_type": "code",
   "execution_count": null,
   "metadata": {},
   "outputs": [],
   "source": [
    "%pip install pandas yfinance tqdm"
   ]
  },
  {
   "cell_type": "code",
   "execution_count": 5,
   "metadata": {},
   "outputs": [],
   "source": [
    "import pandas as pd\n",
    "import yfinance as yf\n",
    "from tqdm import tqdm\n",
    "import numpy as np"
   ]
  },
  {
   "cell_type": "code",
   "execution_count": null,
   "metadata": {},
   "outputs": [],
   "source": [
    "# Specify the input file path for macOS\n",
    "input_file = '/Users/christopher/Desktop/Seminar-Advanced-Finance/stocks.csv'\n",
    "\n",
    "# Specify the output file path for macOS\n",
    "output_file = '/Users/christopher/Desktop/Seminar-Advanced-Finance/stocks_data.csv'\n",
    "\n",
    "# Specify the output file path for macOS\n",
    "output_file2 = '/Users/christopher/Desktop/Seminar-Advanced-Finance/stocks_data2.csv'\n",
    "\n",
    "# Read the CSV file\n",
    "stocks_df = pd.read_csv(input_file)"
   ]
  },
  {
   "cell_type": "code",
   "execution_count": null,
   "metadata": {},
   "outputs": [],
   "source": [
    "# Filter rows to only include tickers in the 'Financials' and 'Industrials' sectors\n",
    "stocks_df = stocks_df[stocks_df['GICS Sector'].isin(['Financials', 'Industrials'])]\n",
    "\n",
    "# List to accumulate data frames for each ticker\n",
    "final_df = pd.DataFrame()\n",
    "\n",
    "# List to accumulate data frames for each ticker\n",
    "final_df2 = pd.DataFrame()"
   ]
  },
  {
   "cell_type": "code",
   "execution_count": 20,
   "metadata": {},
   "outputs": [
    {
     "name": "stderr",
     "output_type": "stream",
     "text": [
      "Downloading stock data:  11%|█▏        | 17/151 [00:04<00:38,  3.46it/s]\n"
     ]
    },
    {
     "ename": "KeyboardInterrupt",
     "evalue": "",
     "output_type": "error",
     "traceback": [
      "\u001b[0;31m---------------------------------------------------------------------------\u001b[0m",
      "\u001b[0;31mKeyboardInterrupt\u001b[0m                         Traceback (most recent call last)",
      "\u001b[0;32m/var/folders/1t/g6pbwy2d0xs212cq6dztdzn80000gn/T/ipykernel_1591/3042878134.py\u001b[0m in \u001b[0;36m<module>\u001b[0;34m\u001b[0m\n\u001b[1;32m     22\u001b[0m     \u001b[0mdata\u001b[0m \u001b[0;34m=\u001b[0m \u001b[0mdata\u001b[0m\u001b[0;34m[\u001b[0m\u001b[0;34m[\u001b[0m\u001b[0;34m'Date'\u001b[0m\u001b[0;34m,\u001b[0m \u001b[0;34m'Adj Close'\u001b[0m\u001b[0;34m,\u001b[0m \u001b[0;34m'Ticker'\u001b[0m\u001b[0;34m,\u001b[0m \u001b[0;34m'GICS Sector'\u001b[0m\u001b[0;34m]\u001b[0m\u001b[0;34m]\u001b[0m\u001b[0;34m\u001b[0m\u001b[0;34m\u001b[0m\u001b[0m\n\u001b[1;32m     23\u001b[0m \u001b[0;34m\u001b[0m\u001b[0m\n\u001b[0;32m---> 24\u001b[0;31m     \u001b[0mfinal_df\u001b[0m \u001b[0;34m=\u001b[0m \u001b[0mpd\u001b[0m\u001b[0;34m.\u001b[0m\u001b[0mconcat\u001b[0m\u001b[0;34m(\u001b[0m\u001b[0;34m[\u001b[0m\u001b[0mfinal_df\u001b[0m\u001b[0;34m,\u001b[0m \u001b[0mdata\u001b[0m\u001b[0;34m]\u001b[0m\u001b[0;34m,\u001b[0m \u001b[0mignore_index\u001b[0m\u001b[0;34m=\u001b[0m\u001b[0;32mTrue\u001b[0m\u001b[0;34m)\u001b[0m\u001b[0;34m\u001b[0m\u001b[0;34m\u001b[0m\u001b[0m\n\u001b[0m",
      "\u001b[0;32m~/opt/anaconda3/lib/python3.9/site-packages/pandas/core/reshape/concat.py\u001b[0m in \u001b[0;36mconcat\u001b[0;34m(objs, axis, join, ignore_index, keys, levels, names, verify_integrity, sort, copy)\u001b[0m\n\u001b[1;32m    393\u001b[0m     )\n\u001b[1;32m    394\u001b[0m \u001b[0;34m\u001b[0m\u001b[0m\n\u001b[0;32m--> 395\u001b[0;31m     \u001b[0;32mreturn\u001b[0m \u001b[0mop\u001b[0m\u001b[0;34m.\u001b[0m\u001b[0mget_result\u001b[0m\u001b[0;34m(\u001b[0m\u001b[0;34m)\u001b[0m\u001b[0;34m\u001b[0m\u001b[0;34m\u001b[0m\u001b[0m\n\u001b[0m\u001b[1;32m    396\u001b[0m \u001b[0;34m\u001b[0m\u001b[0m\n\u001b[1;32m    397\u001b[0m \u001b[0;34m\u001b[0m\u001b[0m\n",
      "\u001b[0;32m~/opt/anaconda3/lib/python3.9/site-packages/pandas/core/reshape/concat.py\u001b[0m in \u001b[0;36mget_result\u001b[0;34m(self)\u001b[0m\n\u001b[1;32m    682\u001b[0m                 \u001b[0mmgrs_indexers\u001b[0m\u001b[0;34m.\u001b[0m\u001b[0mappend\u001b[0m\u001b[0;34m(\u001b[0m\u001b[0;34m(\u001b[0m\u001b[0mobj\u001b[0m\u001b[0;34m.\u001b[0m\u001b[0m_mgr\u001b[0m\u001b[0;34m,\u001b[0m \u001b[0mindexers\u001b[0m\u001b[0;34m)\u001b[0m\u001b[0;34m)\u001b[0m\u001b[0;34m\u001b[0m\u001b[0;34m\u001b[0m\u001b[0m\n\u001b[1;32m    683\u001b[0m \u001b[0;34m\u001b[0m\u001b[0m\n\u001b[0;32m--> 684\u001b[0;31m             new_data = concatenate_managers(\n\u001b[0m\u001b[1;32m    685\u001b[0m                 \u001b[0mmgrs_indexers\u001b[0m\u001b[0;34m,\u001b[0m \u001b[0mself\u001b[0m\u001b[0;34m.\u001b[0m\u001b[0mnew_axes\u001b[0m\u001b[0;34m,\u001b[0m \u001b[0mconcat_axis\u001b[0m\u001b[0;34m=\u001b[0m\u001b[0mself\u001b[0m\u001b[0;34m.\u001b[0m\u001b[0mbm_axis\u001b[0m\u001b[0;34m,\u001b[0m \u001b[0mcopy\u001b[0m\u001b[0;34m=\u001b[0m\u001b[0mself\u001b[0m\u001b[0;34m.\u001b[0m\u001b[0mcopy\u001b[0m\u001b[0;34m\u001b[0m\u001b[0;34m\u001b[0m\u001b[0m\n\u001b[1;32m    686\u001b[0m             )\n",
      "\u001b[0;32m~/opt/anaconda3/lib/python3.9/site-packages/pandas/core/internals/concat.py\u001b[0m in \u001b[0;36mconcatenate_managers\u001b[0;34m(mgrs_indexers, axes, concat_axis, copy)\u001b[0m\n\u001b[1;32m    175\u001b[0m                 \u001b[0;31m# expected \"Union[_SupportsArray[dtype[Any]],\u001b[0m\u001b[0;34m\u001b[0m\u001b[0;34m\u001b[0m\u001b[0m\n\u001b[1;32m    176\u001b[0m                 \u001b[0;31m# _NestedSequence[_SupportsArray[dtype[Any]]]]\"\u001b[0m\u001b[0;34m\u001b[0m\u001b[0;34m\u001b[0m\u001b[0m\n\u001b[0;32m--> 177\u001b[0;31m                 \u001b[0mvalues\u001b[0m \u001b[0;34m=\u001b[0m \u001b[0mnp\u001b[0m\u001b[0;34m.\u001b[0m\u001b[0mconcatenate\u001b[0m\u001b[0;34m(\u001b[0m\u001b[0mvals\u001b[0m\u001b[0;34m,\u001b[0m \u001b[0maxis\u001b[0m\u001b[0;34m=\u001b[0m\u001b[0;36m1\u001b[0m\u001b[0;34m)\u001b[0m  \u001b[0;31m# type: ignore[arg-type]\u001b[0m\u001b[0;34m\u001b[0m\u001b[0;34m\u001b[0m\u001b[0m\n\u001b[0m\u001b[1;32m    178\u001b[0m             \u001b[0;32melif\u001b[0m \u001b[0mis_1d_only_ea_dtype\u001b[0m\u001b[0;34m(\u001b[0m\u001b[0mblk\u001b[0m\u001b[0;34m.\u001b[0m\u001b[0mdtype\u001b[0m\u001b[0;34m)\u001b[0m\u001b[0;34m:\u001b[0m\u001b[0;34m\u001b[0m\u001b[0;34m\u001b[0m\u001b[0m\n\u001b[1;32m    179\u001b[0m                 \u001b[0;31m# TODO(EA2D): special-casing not needed with 2D EAs\u001b[0m\u001b[0;34m\u001b[0m\u001b[0;34m\u001b[0m\u001b[0m\n",
      "\u001b[0;32m~/opt/anaconda3/lib/python3.9/site-packages/numpy/core/overrides.py\u001b[0m in \u001b[0;36mconcatenate\u001b[0;34m(*args, **kwargs)\u001b[0m\n",
      "\u001b[0;31mKeyboardInterrupt\u001b[0m: "
     ]
    }
   ],
   "source": [
    "# Loop (iteration) over each row/ticker\n",
    "for idx, row in tqdm(stocks_df.iterrows(), \n",
    "                     total=stocks_df.shape[0],\n",
    "                     desc=\"Downloading stock data\"):\n",
    "    \n",
    "    # Extract the ticker symbol & GICS sector from the row\n",
    "    ticker = row['Symbol']       \n",
    "    gics_sector = row['GICS Sector']\n",
    "\n",
    "    # Download data from yfinance\n",
    "    data = yf.download(ticker, start=\"2000-01-01\", end=\"2025-01-01\", progress=False, auto_adjust=False)\n",
    "\n",
    "    # Add 'Ticker' and 'GICS Sector' as normal columns\n",
    "    data[\"Ticker\"] = ticker\n",
    "    data[\"GICS Sector\"] = gics_sector\n",
    "\n",
    "    # 3) Reset index so we have a \"Date\" column (instead of an index)\n",
    "    data.reset_index(inplace=True)\n",
    "\n",
    "    data.columns = data.columns.droplevel(1)\n",
    "\n",
    "    data = data[['Date', 'Adj Close', 'Ticker', 'GICS Sector']]\n",
    "\n",
    "    final_df = pd.concat([final_df, data], ignore_index=True)"
   ]
  },
  {
   "cell_type": "code",
   "execution_count": 148,
   "metadata": {},
   "outputs": [],
   "source": [
    "final_df.to_csv(output_file, index=False)"
   ]
  },
  {
   "cell_type": "code",
   "execution_count": 46,
   "metadata": {},
   "outputs": [
    {
     "name": "stderr",
     "output_type": "stream",
     "text": [
      "Downloading stock data: 100%|██████████| 151/151 [00:44<00:00,  3.38it/s]\n"
     ]
    }
   ],
   "source": [
    "# Loop over each row/ticker\n",
    "for idx, row in tqdm(stocks_df.iterrows(), total=stocks_df.shape[0], desc=\"Downloading stock data\"):\n",
    "    ticker = row['Symbol']\n",
    "    gics_sector = row['GICS Sector']\n",
    "\n",
    "    # Download data from yfinance for a single ticker\n",
    "    data2 = yf.download(\n",
    "        tickers=ticker,\n",
    "        start=\"1999-01-01\",\n",
    "        end=\"2025-01-01\",\n",
    "        progress=False,\n",
    "        auto_adjust=False\n",
    "    )\n",
    "\n",
    "    # Skip if no data was returned\n",
    "    if data2.empty:\n",
    "        continue\n",
    "\n",
    "    # If columns is a MultiIndex, drop the second level\n",
    "    if isinstance(data2.columns, pd.MultiIndex):\n",
    "        data2.columns = data2.columns.droplevel(1)\n",
    "\n",
    "    # Add 'Ticker' and 'GICS Sector' as normal columns\n",
    "    data2[\"Ticker\"] = ticker\n",
    "    data2[\"GICS Sector\"] = gics_sector\n",
    "\n",
    "    # Reset index so we have a \"Date\" column (instead of an index)\n",
    "    data2.reset_index(inplace=True)\n",
    "\n",
    "    # Calculate daily log returns\n",
    "    data2['log_return'] = np.log(data2['Adj Close'] / data2['Adj Close'].shift(1))\n",
    "\n",
    "    # Calculate volatility as the rolling standard deviation of log returns over 63 trading days\n",
    "    data2['Volatility'] = data2['log_return'].rolling(window=63).std()\n",
    "\n",
    "    # Drop the temporary 'log_return' column if not needed\n",
    "    data2.drop(columns=['log_return'], inplace=True)\n",
    "\n",
    "    # Select the relevant columns\n",
    "    data2 = data2[['Date', 'Adj Close', 'Volatility', 'Ticker', 'GICS Sector']]\n",
    "\n",
    "    # Append the processed data to the final dataframe (long format)\n",
    "    final_df2 = pd.concat([final_df2, data2], ignore_index=True)\n",
    "\n",
    "# final_df2 now contains all tickers in a single, long-format DataFrame\n"
   ]
  },
  {
   "cell_type": "code",
   "execution_count": 50,
   "metadata": {},
   "outputs": [],
   "source": [
    "# Ensure 'Date' is a datetime column\n",
    "final_df2['Date'] = pd.to_datetime(final_df2['Date'])\n",
    "\n",
    "# Filter out rows where the year is 1999\n",
    "final_df2 = final_df2[final_df2['Date'].dt.year != 1999]"
   ]
  },
  {
   "cell_type": "code",
   "execution_count": 53,
   "metadata": {},
   "outputs": [
    {
     "name": "stderr",
     "output_type": "stream",
     "text": [
      "/var/folders/1t/g6pbwy2d0xs212cq6dztdzn80000gn/T/ipykernel_1591/1421938220.py:2: SettingWithCopyWarning: \n",
      "A value is trying to be set on a copy of a slice from a DataFrame.\n",
      "Try using .loc[row_indexer,col_indexer] = value instead\n",
      "\n",
      "See the caveats in the documentation: https://pandas.pydata.org/pandas-docs/stable/user_guide/indexing.html#returning-a-view-versus-a-copy\n",
      "  final_df2['Date'] = pd.to_datetime(final_df2['Date'])\n",
      "/var/folders/1t/g6pbwy2d0xs212cq6dztdzn80000gn/T/ipykernel_1591/1421938220.py:3: SettingWithCopyWarning: \n",
      "A value is trying to be set on a copy of a slice from a DataFrame\n",
      "\n",
      "See the caveats in the documentation: https://pandas.pydata.org/pandas-docs/stable/user_guide/indexing.html#returning-a-view-versus-a-copy\n",
      "  final_df2.sort_values(['Ticker', 'Date'], inplace=True)\n",
      "/var/folders/1t/g6pbwy2d0xs212cq6dztdzn80000gn/T/ipykernel_1591/1421938220.py:14: DeprecationWarning: DataFrameGroupBy.apply operated on the grouping columns. This behavior is deprecated, and in a future version of pandas the grouping columns will be excluded from the operation. Either pass `include_groups=False` to exclude the groupings or explicitly select the grouping columns after groupby to silence this warning.\n",
      "  final_df2 = final_df2.groupby('Ticker', group_keys=False).apply(fill_earliest_volatility)\n"
     ]
    }
   ],
   "source": [
    "# Make sure 'Date' is datetime and sort by it if necessary\n",
    "final_df2['Date'] = pd.to_datetime(final_df2['Date'])\n",
    "final_df2.sort_values(['Ticker', 'Date'], inplace=True)\n",
    "\n",
    "def fill_earliest_volatility(group):\n",
    "    # Find the first non-NaN volatility for this ticker group\n",
    "    non_na_vol = group['Volatility'].dropna()\n",
    "    if not non_na_vol.empty:\n",
    "        earliest_vol = non_na_vol.iloc[0]\n",
    "        # Fill missing values with the earliest available volatility\n",
    "        group['Volatility'] = group['Volatility'].fillna(earliest_vol)\n",
    "    return group\n",
    "\n",
    "final_df2 = final_df2.groupby('Ticker', group_keys=False).apply(fill_earliest_volatility)\n"
   ]
  },
  {
   "cell_type": "code",
   "execution_count": null,
   "metadata": {},
   "outputs": [],
   "source": [
    "final_df2.to_csv(output_file2, index=False)"
   ]
  }
 ],
 "metadata": {
  "kernelspec": {
   "display_name": "base",
   "language": "python",
   "name": "python3"
  },
  "language_info": {
   "codemirror_mode": {
    "name": "ipython",
    "version": 3
   },
   "file_extension": ".py",
   "mimetype": "text/x-python",
   "name": "python",
   "nbconvert_exporter": "python",
   "pygments_lexer": "ipython3",
   "version": "3.9.13"
  }
 },
 "nbformat": 4,
 "nbformat_minor": 2
}
