{
 "cells": [
  {
   "cell_type": "code",
   "execution_count": null,
   "metadata": {},
   "outputs": [],
   "source": [
    "%pip install pandas yfinance tqdm"
   ]
  },
  {
   "cell_type": "code",
   "execution_count": 143,
   "metadata": {},
   "outputs": [],
   "source": [
    "import pandas as pd\n",
    "import yfinance as yf\n",
    "from tqdm import tqdm"
   ]
  },
  {
   "cell_type": "code",
   "execution_count": 144,
   "metadata": {},
   "outputs": [],
   "source": [
    "# Specify the input file path for macOS\n",
    "input_file = '/Users/christopher/Desktop/Seminar-Advanced-Finance/stocks.csv'\n",
    "\n",
    "# Specify the output file path for macOS\n",
    "output_file = '/Users/christopher/Desktop/Seminar-Advanced-Finance/stocks_data.csv'\n",
    "\n",
    "# Read the CSV file\n",
    "stocks_df = pd.read_csv(input_file)"
   ]
  },
  {
   "cell_type": "code",
   "execution_count": 145,
   "metadata": {},
   "outputs": [],
   "source": [
    "# Filter rows to only include tickers in the 'Financials' and 'Industrials' sectors\n",
    "stocks_df = stocks_df[stocks_df['GICS Sector'].isin(['Financials', 'Industrials'])]\n",
    "\n",
    "# List to accumulate data frames for each ticker\n",
    "final_df = pd.DataFrame()"
   ]
  },
  {
   "cell_type": "code",
   "execution_count": 146,
   "metadata": {},
   "outputs": [
    {
     "name": "stderr",
     "output_type": "stream",
     "text": [
      "Downloading stock data: 100%|██████████| 151/151 [00:41<00:00,  3.63it/s]\n"
     ]
    }
   ],
   "source": [
    "# Loop (iteration) over each row/ticker\n",
    "for idx, row in tqdm(stocks_df.iterrows(), \n",
    "                     total=stocks_df.shape[0],\n",
    "                     desc=\"Downloading stock data\"):\n",
    "    \n",
    "    # Extract the ticker symbol & GICS sector from the row\n",
    "    ticker = row['Symbol']       \n",
    "    gics_sector = row['GICS Sector']\n",
    "\n",
    "    # Download data from yfinance\n",
    "    data = yf.download(ticker, start=\"2000-01-01\", end=\"2025-01-01\", progress=False, auto_adjust=False)\n",
    "\n",
    "    # Add 'Ticker' and 'GICS Sector' as normal columns\n",
    "    data[\"Ticker\"] = ticker\n",
    "    data[\"GICS Sector\"] = gics_sector\n",
    "\n",
    "    # 3) Reset index so we have a \"Date\" column (instead of an index)\n",
    "    data.reset_index(inplace=True)\n",
    "\n",
    "    data.columns = data.columns.droplevel(1)\n",
    "\n",
    "    data = data[['Date', 'Adj Close', 'Ticker', 'GICS Sector']]\n",
    "\n",
    "    final_df = pd.concat([final_df, data], ignore_index=True)"
   ]
  },
  {
   "cell_type": "code",
   "execution_count": 148,
   "metadata": {},
   "outputs": [],
   "source": [
    "final_df.to_csv(output_file, index=False)"
   ]
  }
 ],
 "metadata": {
  "kernelspec": {
   "display_name": "base",
   "language": "python",
   "name": "python3"
  },
  "language_info": {
   "codemirror_mode": {
    "name": "ipython",
    "version": 3
   },
   "file_extension": ".py",
   "mimetype": "text/x-python",
   "name": "python",
   "nbconvert_exporter": "python",
   "pygments_lexer": "ipython3",
   "version": "3.9.13"
  }
 },
 "nbformat": 4,
 "nbformat_minor": 2
}
