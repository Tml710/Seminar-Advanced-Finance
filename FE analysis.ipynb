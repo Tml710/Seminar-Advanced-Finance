{
 "cells": [
  {
   "cell_type": "code",
   "execution_count": 149,
   "metadata": {},
   "outputs": [],
   "source": [
    "import numpy as np\n",
    "import pandas as pd\n",
    "import statsmodels.api as sm\n",
    "from linearmodels.panel import PanelOLS"
   ]
  },
  {
   "cell_type": "code",
   "execution_count": 150,
   "metadata": {},
   "outputs": [],
   "source": [
    "final_merged_df = pd.read_csv('/Users/christopher/Desktop/Seminar-Advanced-Finance/finaldata.csv')"
   ]
  },
  {
   "cell_type": "markdown",
   "metadata": {},
   "source": [
    "# Debt Ratio analysis:"
   ]
  },
  {
   "cell_type": "code",
   "execution_count": null,
   "metadata": {},
   "outputs": [
    {
     "name": "stdout",
     "output_type": "stream",
     "text": [
      "                          PanelOLS Estimation Summary                           \n",
      "================================================================================\n",
      "Dep. Variable:            Log_TobinsQ   R-squared:                        0.3444\n",
      "Estimator:                   PanelOLS   R-squared (Between):              0.4875\n",
      "No. Observations:               21894   R-squared (Within):               0.0026\n",
      "Date:                Sun, Apr 13 2025   R-squared (Overall):              0.3444\n",
      "Time:                        12:58:55   Log-likelihood                -1.275e+04\n",
      "Cov. Estimator:             Clustered                                           \n",
      "                                        F-statistic:                      675.85\n",
      "Entities:                         362   P-value                           0.0000\n",
      "Avg Obs:                       60.481   Distribution:                F(17,21876)\n",
      "Min Obs:                       1.0000                                           \n",
      "Max Obs:                       101.00   F-statistic (robust):             48.950\n",
      "                                        P-value                           0.0000\n",
      "Time periods:                    1567   Distribution:                F(17,21876)\n",
      "Avg Obs:                       13.972                                           \n",
      "Min Obs:                       1.0000                                           \n",
      "Max Obs:                       264.00                                           \n",
      "                                                                                \n",
      "                                    Parameter Estimates                                     \n",
      "============================================================================================\n",
      "                          Parameter  Std. Err.     T-stat    P-value    Lower CI    Upper CI\n",
      "--------------------------------------------------------------------------------------------\n",
      "const                       -18.221     3.5804    -5.0891     0.0000     -25.239     -11.203\n",
      "Debt Ratio                  -0.6783     0.1707    -3.9727     0.0001     -1.0129     -0.3436\n",
      "DebtRatio_sq                 0.2284     0.0505     4.5210     0.0000      0.1294      0.3274\n",
      "Debt_EBITDA_Interaction   7.247e-05  3.704e-05     1.9566     0.0504   -1.27e-07      0.0001\n",
      "ROE                         -0.0014     0.0023    -0.6063     0.5443     -0.0060      0.0032\n",
      "ROE_sq                    4.647e-05  1.883e-05     2.4677     0.0136   9.561e-06   8.339e-05\n",
      "Asset Tangibility           -0.0715     0.0500    -1.4305     0.1526     -0.1694      0.0265\n",
      "Industry_Median_Leverage     0.0827     0.1467     0.5639     0.5728     -0.2048      0.3703\n",
      "Size                         0.2357     0.0916     2.5748     0.0100      0.0563      0.4152\n",
      "Size_sq                     -0.0202     0.0053    -3.8253     0.0001     -0.0305     -0.0098\n",
      "DPR                         -0.0307     0.0069    -4.4528     0.0000     -0.0443     -0.0172\n",
      "Log_NetIncome_Shifted        1.8336     0.3448     5.3175     0.0000      1.1577      2.5095\n",
      "GDP_Growth_pct               0.0116     0.0011     10.616     0.0000      0.0094      0.0137\n",
      "VIX_Growth                  -0.0042     0.0031    -1.3792     0.1678     -0.0102      0.0018\n",
      "RnDintensity                 10.551     1.5554     6.7837     0.0000      7.5028      13.600\n",
      "PEratio                   4.355e-05  2.545e-05     1.7111     0.0871  -6.338e-06   9.345e-05\n",
      "Interest Rate                0.0098     0.0031     3.1680     0.0015      0.0037      0.0159\n",
      "EBITDA                   -1.081e-05  2.203e-05    -0.4907     0.6236    -5.4e-05   3.237e-05\n",
      "============================================================================================\n",
      "\n",
      "\n"
     ]
    },
    {
     "name": "stderr",
     "output_type": "stream",
     "text": [
      "/Users/christopher/opt/anaconda3/lib/python3.9/site-packages/linearmodels/panel/model.py:1260: MissingValueWarning: \n",
      "Inputs contain missing values. Dropping rows with missing observations.\n",
      "  super().__init__(dependent, exog, weights=weights, check_rank=check_rank)\n"
     ]
    }
   ],
   "source": [
    "# Ensure that 'Date' is in datetime format\n",
    "final_merged_df['Period End Date'] = pd.to_datetime(final_merged_df['Period End Date'], errors='coerce')\n",
    "\n",
    "# Set the panel index using 'Ticker_x' (firm identifier) and 'Date'\n",
    "panel_data = final_merged_df.set_index(['Instrument', 'Period End Date'])\n",
    "\n",
    "# Define the dependent variable (Market Value, proxied by 'Adj Close')\n",
    "y = panel_data['Log_TobinsQ']\n",
    "\n",
    "# Define the independent variables as per the model:\n",
    "X = panel_data[['Debt Ratio','DebtRatio_sq','Debt_EBITDA_Interaction', 'ROE','ROE_sq', 'Asset Tangibility','Industry_Median_Leverage' ,'Size','Size_sq', 'DPR', 'Log_NetIncome_Shifted', 'GDP_Growth_pct', 'VIX_Growth', 'RnDintensity', 'PEratio', 'Interest Rate','EBITDA']]\n",
    "\n",
    "# Add a constant term to the independent variables\n",
    "X = sm.add_constant(X)\n",
    "\n",
    "# Estimate the PanelOLS model with entity fixed effects using the Date column as the time index\n",
    "mod = PanelOLS(y, X, entity_effects=False, check_rank=False)\n",
    "res = mod.fit(cov_type='clustered', cluster_entity=True)\n",
    "\n",
    "# Print the regression summary\n",
    "print(res.summary)"
   ]
  },
  {
   "cell_type": "code",
   "execution_count": 154,
   "metadata": {},
   "outputs": [
    {
     "name": "stdout",
     "output_type": "stream",
     "text": [
      "\\begin{table}\n",
      "\\caption{Fixed Effects Regression Results}\n",
      "\\label{tab:regression}\n",
      "\\begin{tabular}{lrr}\n",
      "\\toprule\n",
      " & Coefficient & P-value \\\\\n",
      "\\midrule\n",
      "const & -18.2210 & 0.0000 \\\\\n",
      "Debt Ratio & -0.6783 & 0.0001 \\\\\n",
      "DebtRatio_sq & 0.2284 & 0.0000 \\\\\n",
      "Debt_EBITDA_Interaction & 0.0001 & 0.0504 \\\\\n",
      "ROE & -0.0014 & 0.5443 \\\\\n",
      "ROE_sq & 0.0000 & 0.0136 \\\\\n",
      "Asset Tangibility & -0.0715 & 0.1526 \\\\\n",
      "Industry_Median_Leverage & 0.0827 & 0.5728 \\\\\n",
      "Size & 0.2357 & 0.0100 \\\\\n",
      "Size_sq & -0.0202 & 0.0001 \\\\\n",
      "DPR & -0.0307 & 0.0000 \\\\\n",
      "Log_NetIncome_Shifted & 1.8336 & 0.0000 \\\\\n",
      "GDP_Growth_pct & 0.0116 & 0.0000 \\\\\n",
      "VIX_Growth & -0.0042 & 0.1678 \\\\\n",
      "RnDintensity & 10.5510 & 0.0000 \\\\\n",
      "PEratio & 0.0000 & 0.0871 \\\\\n",
      "Interest Rate & 0.0098 & 0.0015 \\\\\n",
      "EBITDA & -0.0000 & 0.6236 \\\\\n",
      "\\bottomrule\n",
      "\\end{tabular}\n",
      "\\end{table}\n",
      "\n"
     ]
    },
    {
     "name": "stderr",
     "output_type": "stream",
     "text": [
      "/var/folders/1t/g6pbwy2d0xs212cq6dztdzn80000gn/T/ipykernel_94976/1958637263.py:5: FutureWarning: Passing literal html to 'read_html' is deprecated and will be removed in a future version. To read from a literal string, wrap it in a 'StringIO' object.\n",
      "  df_coef = pd.read_html(coef_table, header=0, index_col=0)[0]\n"
     ]
    }
   ],
   "source": [
    "import pandas as pd\n",
    "\n",
    "# Extract coefficients table as HTML and convert to DataFrame\n",
    "coef_table = res.summary.tables[1].as_html()\n",
    "df_coef = pd.read_html(coef_table, header=0, index_col=0)[0]\n",
    "\n",
    "# Extract only the coefficient and P-value columns\n",
    "df_selected = df_coef[['Parameter', 'P-value']]\n",
    "\n",
    "# Rename columns for clarity\n",
    "df_selected.columns = ['Coefficient', 'P-value']\n",
    "\n",
    "# Export to LaTeX\n",
    "print(df_selected.to_latex(float_format=\"%.4f\", caption=\"Fixed Effects Regression Results\", label=\"tab:regression\"))"
   ]
  },
  {
   "cell_type": "markdown",
   "metadata": {},
   "source": [
    "# Market Timing Theory analysis:"
   ]
  },
  {
   "cell_type": "code",
   "execution_count": 172,
   "metadata": {},
   "outputs": [
    {
     "name": "stderr",
     "output_type": "stream",
     "text": [
      "/Users/christopher/opt/anaconda3/lib/python3.9/site-packages/linearmodels/panel/model.py:1260: MissingValueWarning: \n",
      "Inputs contain missing values. Dropping rows with missing observations.\n",
      "  super().__init__(dependent, exog, weights=weights, check_rank=check_rank)\n"
     ]
    },
    {
     "name": "stdout",
     "output_type": "stream",
     "text": [
      "                          PanelOLS Estimation Summary                           \n",
      "================================================================================\n",
      "Dep. Variable:            Log_TobinsQ   R-squared:                        0.1319\n",
      "Estimator:                   PanelOLS   R-squared (Between):              0.2395\n",
      "No. Observations:               21349   R-squared (Within):               0.1319\n",
      "Date:                Sun, Apr 27 2025   R-squared (Overall):              0.1934\n",
      "Time:                        22:14:51   Log-likelihood                   -1098.9\n",
      "Cov. Estimator:             Clustered                                           \n",
      "                                        F-statistic:                      187.37\n",
      "Entities:                         362   P-value                           0.0000\n",
      "Avg Obs:                       58.975   Distribution:                F(17,20970)\n",
      "Min Obs:                       1.0000                                           \n",
      "Max Obs:                      100.000   F-statistic (robust):             101.09\n",
      "                                        P-value                           0.0000\n",
      "Time periods:                    1536   Distribution:                F(17,20970)\n",
      "Avg Obs:                       13.899                                           \n",
      "Min Obs:                       1.0000                                           \n",
      "Max Obs:                       260.00                                           \n",
      "                                                                                \n",
      "                                     Parameter Estimates                                      \n",
      "==============================================================================================\n",
      "                            Parameter  Std. Err.     T-stat    P-value    Lower CI    Upper CI\n",
      "----------------------------------------------------------------------------------------------\n",
      "const                         -10.621     1.9057    -5.5731     0.0000     -14.356     -6.8854\n",
      "Debt Ratio                    -0.2591     0.1060    -2.4451     0.0145     -0.4668     -0.0514\n",
      "Debt_PE_interaction           -0.0017     0.0008    -2.1255     0.0336     -0.0033     -0.0001\n",
      "Debt_PE_lagged_interaction   1.39e-05  4.354e-06     3.1935     0.0014    5.37e-06   2.244e-05\n",
      "ROE                            0.0003     0.0010     0.3292     0.7420     -0.0016      0.0022\n",
      "ROE_sq                      2.466e-05  6.539e-06     3.7713     0.0002   1.184e-05   3.748e-05\n",
      "Asset Tangibility              0.0351     0.0300     1.1682     0.2427     -0.0238      0.0940\n",
      "Industry_Median_Leverage       0.0678     0.0758     0.8938     0.3714     -0.0809      0.2164\n",
      "Size                           0.4848     0.1137     4.2641     0.0000      0.2620      0.7077\n",
      "Size_sq                       -0.0274     0.0064    -4.3035     0.0000     -0.0398     -0.0149\n",
      "DPR                           -0.0318     0.0071    -4.4705     0.0000     -0.0457     -0.0178\n",
      "Log_NetIncome_Shifted          0.9204     0.1760     5.2282     0.0000      0.5753      1.2655\n",
      "GDP_Growth_pct                 0.0102     0.0008     12.222     0.0000      0.0085      0.0118\n",
      "VIX_Growth                    -0.0110     0.0024    -4.5096     0.0000     -0.0157     -0.0062\n",
      "RnDintensity                   11.030     2.6630     4.1420     0.0000      5.8103      16.250\n",
      "PEratio                        0.0021     0.0010     2.1392     0.0324      0.0002      0.0040\n",
      "Interest Rate                  0.0144     0.0025     5.7412     0.0000      0.0095      0.0193\n",
      "EBITDA                      1.318e-05  7.036e-06     1.8729     0.0611  -6.131e-07   2.697e-05\n",
      "==============================================================================================\n",
      "\n",
      "F-test for Poolability: 112.20\n",
      "P-value: 0.0000\n",
      "Distribution: F(361,20970)\n",
      "\n",
      "Included effects: Entity\n"
     ]
    }
   ],
   "source": [
    "# Ensure that 'Date' is in datetime format\n",
    "final_merged_df['Period End Date'] = pd.to_datetime(final_merged_df['Period End Date'], errors='coerce')\n",
    "\n",
    "# Set the panel index using 'Ticker_x' (firm identifier) and 'Date'\n",
    "panel_data = final_merged_df.set_index(['Instrument', 'Period End Date'])\n",
    "\n",
    "# Define the dependent variable (Market Value, proxied by 'Adj Close')\n",
    "y = panel_data['Log_TobinsQ']\n",
    "\n",
    "# Define the independent variables as per the model:\n",
    "X = panel_data[['Debt Ratio', 'Debt_PE_interaction','Debt_PE_lagged_interaction','ROE','ROE_sq', 'Asset Tangibility','Industry_Median_Leverage' ,'Size','Size_sq', 'DPR', 'Log_NetIncome_Shifted', 'GDP_Growth_pct', 'VIX_Growth', 'RnDintensity', 'PEratio', 'Interest Rate', 'EBITDA']]\n",
    "\n",
    "# Add a constant term to the independent variables\n",
    "X = sm.add_constant(X)\n",
    "\n",
    "# Estimate the PanelOLS model with entity fixed effects using the Date column as the time index\n",
    "mod = PanelOLS(y, X, entity_effects=True, check_rank=False)\n",
    "#mod = PanelOLS(y, X, entity_effects=True, time_effects=True, drop_absorbed=True)\n",
    "res = mod.fit(cov_type='clustered', cluster_entity=True)\n",
    "\n",
    "\n",
    "# Print the regression summary\n",
    "print(res.summary)"
   ]
  },
  {
   "cell_type": "code",
   "execution_count": 173,
   "metadata": {},
   "outputs": [
    {
     "name": "stdout",
     "output_type": "stream",
     "text": [
      "\\begin{table}\n",
      "\\caption{Fixed Effects Regression Results}\n",
      "\\label{tab:regression}\n",
      "\\begin{tabular}{lrr}\n",
      "\\toprule\n",
      " & Coefficient & P-value \\\\\n",
      "\\midrule\n",
      "const & -10.6210 & 0.0000 \\\\\n",
      "Debt Ratio & -0.2591 & 0.0145 \\\\\n",
      "Debt_PE_interaction & -0.0017 & 0.0336 \\\\\n",
      "Debt_PE_lagged_interaction & 0.0000 & 0.0014 \\\\\n",
      "ROE & 0.0003 & 0.7420 \\\\\n",
      "ROE_sq & 0.0000 & 0.0002 \\\\\n",
      "Asset Tangibility & 0.0351 & 0.2427 \\\\\n",
      "Industry_Median_Leverage & 0.0678 & 0.3714 \\\\\n",
      "Size & 0.4848 & 0.0000 \\\\\n",
      "Size_sq & -0.0274 & 0.0000 \\\\\n",
      "DPR & -0.0318 & 0.0000 \\\\\n",
      "Log_NetIncome_Shifted & 0.9204 & 0.0000 \\\\\n",
      "GDP_Growth_pct & 0.0102 & 0.0000 \\\\\n",
      "VIX_Growth & -0.0110 & 0.0000 \\\\\n",
      "RnDintensity & 11.0300 & 0.0000 \\\\\n",
      "PEratio & 0.0021 & 0.0324 \\\\\n",
      "Interest Rate & 0.0144 & 0.0000 \\\\\n",
      "EBITDA & 0.0000 & 0.0611 \\\\\n",
      "\\bottomrule\n",
      "\\end{tabular}\n",
      "\\end{table}\n",
      "\n"
     ]
    },
    {
     "name": "stderr",
     "output_type": "stream",
     "text": [
      "/var/folders/1t/g6pbwy2d0xs212cq6dztdzn80000gn/T/ipykernel_94976/1958637263.py:5: FutureWarning: Passing literal html to 'read_html' is deprecated and will be removed in a future version. To read from a literal string, wrap it in a 'StringIO' object.\n",
      "  df_coef = pd.read_html(coef_table, header=0, index_col=0)[0]\n"
     ]
    }
   ],
   "source": [
    "import pandas as pd\n",
    "\n",
    "# Extract coefficients table as HTML and convert to DataFrame\n",
    "coef_table = res.summary.tables[1].as_html()\n",
    "df_coef = pd.read_html(coef_table, header=0, index_col=0)[0]\n",
    "\n",
    "# Extract only the coefficient and P-value columns\n",
    "df_selected = df_coef[['Parameter', 'P-value']]\n",
    "\n",
    "# Rename columns for clarity\n",
    "df_selected.columns = ['Coefficient', 'P-value']\n",
    "\n",
    "# Export to LaTeX\n",
    "print(df_selected.to_latex(float_format=\"%.4f\", caption=\"Fixed Effects Regression Results\", label=\"tab:regression\"))"
   ]
  },
  {
   "cell_type": "markdown",
   "metadata": {},
   "source": [
    "# Sector analysis:\n",
    "\n",
    "### Information Technology:"
   ]
  },
  {
   "cell_type": "code",
   "execution_count": 174,
   "metadata": {},
   "outputs": [
    {
     "name": "stderr",
     "output_type": "stream",
     "text": [
      "/Users/christopher/opt/anaconda3/lib/python3.9/site-packages/linearmodels/panel/model.py:1260: MissingValueWarning: \n",
      "Inputs contain missing values. Dropping rows with missing observations.\n",
      "  super().__init__(dependent, exog, weights=weights, check_rank=check_rank)\n"
     ]
    },
    {
     "name": "stdout",
     "output_type": "stream",
     "text": [
      "                          PanelOLS Estimation Summary                           \n",
      "================================================================================\n",
      "Dep. Variable:            Log_TobinsQ   R-squared:                        0.2779\n",
      "Estimator:                   PanelOLS   R-squared (Between):              0.1599\n",
      "No. Observations:                3211   R-squared (Within):               0.2779\n",
      "Date:                Sun, Apr 27 2025   R-squared (Overall):              0.1378\n",
      "Time:                        22:14:51   Log-likelihood                   -999.26\n",
      "Cov. Estimator:             Clustered                                           \n",
      "                                        F-statistic:                      71.115\n",
      "Entities:                          52   P-value                           0.0000\n",
      "Avg Obs:                       61.750   Distribution:                 F(17,3142)\n",
      "Min Obs:                       1.0000                                           \n",
      "Max Obs:                      100.000   F-statistic (robust):             71.105\n",
      "                                        P-value                           0.0000\n",
      "Time periods:                     100   Distribution:                 F(17,3142)\n",
      "Avg Obs:                       32.110                                           \n",
      "Min Obs:                       16.000                                           \n",
      "Max Obs:                       55.000                                           \n",
      "                                                                                \n",
      "                                    Parameter Estimates                                     \n",
      "============================================================================================\n",
      "                          Parameter  Std. Err.     T-stat    P-value    Lower CI    Upper CI\n",
      "--------------------------------------------------------------------------------------------\n",
      "const                       -18.316     7.8822    -2.3237     0.0202     -33.771     -2.8615\n",
      "Debt Ratio                  -1.8115     0.4206    -4.3074     0.0000     -2.6361     -0.9869\n",
      "DebtRatio_sq                 1.0013     0.3098     3.2321     0.0012      0.3939      1.6087\n",
      "Debt_EBITDA_Interaction  -5.613e-07   3.37e-05    -0.0167     0.9867  -6.664e-05   6.552e-05\n",
      "ROE                          0.0120     0.0221     0.5426     0.5875     -0.0313      0.0553\n",
      "ROE_sq                       0.0003     0.0012     0.2802     0.7794     -0.0019      0.0026\n",
      "Asset Tangibility            0.1110     0.2620     0.4237     0.6718     -0.4028      0.6248\n",
      "Industry_Median_Leverage     0.2592     0.2532     1.0236     0.3061     -0.2373      0.7557\n",
      "Size                         0.5027     0.2291     2.1940     0.0283      0.0535      0.9519\n",
      "Size_sq                     -0.0292     0.0136    -2.1530     0.0314     -0.0559     -0.0026\n",
      "DPR                         -0.0492     0.0211    -2.3277     0.0200     -0.0906     -0.0078\n",
      "Log_NetIncome_Shifted        1.6940     0.7688     2.2034     0.0276      0.1866      3.2015\n",
      "GDP_Growth_pct               0.0125     0.0024     5.2842     0.0000      0.0078      0.0171\n",
      "VIX_Growth                  -0.0054     0.0074    -0.7305     0.4651     -0.0198      0.0091\n",
      "RnDintensity                 9.2070     4.9336     1.8662     0.0621     -0.4664      18.880\n",
      "PEratio                      0.0236     0.0093     2.5385     0.0112      0.0054      0.0419\n",
      "Interest Rate                0.0497     0.0089     5.5738     0.0000      0.0322      0.0671\n",
      "EBITDA                    1.327e-05  2.513e-05     0.5279     0.5976  -3.601e-05   6.255e-05\n",
      "============================================================================================\n",
      "\n",
      "F-test for Poolability: 101.10\n",
      "P-value: 0.0000\n",
      "Distribution: F(51,3142)\n",
      "\n",
      "Included effects: Entity\n"
     ]
    }
   ],
   "source": [
    "# 1. Subset the DataFrame to IT only\n",
    "it_df = final_merged_df[final_merged_df['GICS Sector'] == 'Information Technology'].copy()\n",
    "\n",
    "# 2. Convert 'Date' to datetime (if not already done)\n",
    "it_df['Date'] = pd.to_datetime(it_df['Date'], errors='coerce')\n",
    "\n",
    "# 3. Set the panel index using 'Ticker' and 'Date'\n",
    "panel_data = it_df.set_index(['Ticker', 'Date'])\n",
    "\n",
    "# 4. Define the dependent variable (Market Value, proxied by 'Adj Close')\n",
    "y = panel_data['Log_TobinsQ']\n",
    "\n",
    "# 5. Define the independent variables as per the model:\n",
    "X = panel_data[['Debt Ratio','DebtRatio_sq','Debt_EBITDA_Interaction', 'ROE','ROE_sq', 'Asset Tangibility','Industry_Median_Leverage' ,'Size','Size_sq', 'DPR', 'Log_NetIncome_Shifted', 'GDP_Growth_pct', 'VIX_Growth', 'RnDintensity', 'PEratio', 'Interest Rate', 'EBITDA']]\n",
    "\n",
    "# 6. Add a constant term to X\n",
    "X = sm.add_constant(X)\n",
    "\n",
    "# 7. Estimate the PanelOLS model with entity fixed effects\n",
    "mod = PanelOLS(y, X, entity_effects=True)\n",
    "res = mod.fit(cov_type='clustered', cluster_entity=True)\n",
    "\n",
    "# 8. Print the regression summary\n",
    "print(res.summary)"
   ]
  },
  {
   "cell_type": "markdown",
   "metadata": {},
   "source": [
    "### Industrials:"
   ]
  },
  {
   "cell_type": "code",
   "execution_count": 175,
   "metadata": {},
   "outputs": [
    {
     "name": "stdout",
     "output_type": "stream",
     "text": [
      "                          PanelOLS Estimation Summary                           \n",
      "================================================================================\n",
      "Dep. Variable:            Log_TobinsQ   R-squared:                        0.1749\n",
      "Estimator:                   PanelOLS   R-squared (Between):             -0.2318\n",
      "No. Observations:                3776   R-squared (Within):               0.1749\n",
      "Date:                Sun, Apr 27 2025   R-squared (Overall):             -0.1262\n",
      "Time:                        22:14:51   Log-likelihood                   -38.379\n",
      "Cov. Estimator:             Clustered                                           \n",
      "                                        F-statistic:                      46.007\n",
      "Entities:                          69   P-value                           0.0000\n",
      "Avg Obs:                       54.725   Distribution:                 F(17,3690)\n",
      "Min Obs:                       1.0000                                           \n",
      "Max Obs:                      100.000   F-statistic (robust):             17.328\n",
      "                                        P-value                           0.0000\n",
      "Time periods:                     100   Distribution:                 F(17,3690)\n",
      "Avg Obs:                       37.760                                           \n",
      "Min Obs:                       17.000                                           \n",
      "Max Obs:                       66.000                                           \n",
      "                                                                                \n",
      "                                    Parameter Estimates                                     \n",
      "============================================================================================\n",
      "                          Parameter  Std. Err.     T-stat    P-value    Lower CI    Upper CI\n",
      "--------------------------------------------------------------------------------------------\n",
      "const                       -9.7355     4.2321    -2.3004     0.0215     -18.033     -1.4381\n",
      "Debt Ratio                  -0.1580     1.2203    -0.1295     0.8970     -2.5505      2.2344\n",
      "DebtRatio_sq                 0.0579     0.7464     0.0776     0.9382     -1.4056      1.5214\n",
      "Debt_EBITDA_Interaction     -0.0002     0.0001    -1.7034     0.0886     -0.0004   2.984e-05\n",
      "ROE                         -0.0011     0.0029    -0.3708     0.7108     -0.0067      0.0046\n",
      "ROE_sq                   -8.852e-05  6.364e-05    -1.3910     0.1643     -0.0002   3.625e-05\n",
      "Asset Tangibility            0.2682     0.3369     0.7961     0.4260     -0.3923      0.9287\n",
      "Industry_Median_Leverage     0.6848     0.5752     1.1905     0.2339     -0.4430      1.8127\n",
      "Size                         0.5007     0.2037     2.4576     0.0140      0.1013      0.9002\n",
      "Size_sq                     -0.0282     0.0110    -2.5644     0.0104     -0.0497     -0.0066\n",
      "DPR                         -0.0164     0.0145    -1.1365     0.2558     -0.0448      0.0119\n",
      "Log_NetIncome_Shifted        0.7732     0.3925     1.9699     0.0489      0.0036      1.5427\n",
      "GDP_Growth_pct               0.0149     0.0019     7.9046     0.0000      0.0112      0.0186\n",
      "VIX_Growth                  -0.0281     0.0061    -4.5857     0.0000     -0.0402     -0.0161\n",
      "RnDintensity                -15.061     10.308    -1.4611     0.1441     -35.271      5.1493\n",
      "PEratio                      0.0141     0.0060     2.3638     0.0181      0.0024      0.0257\n",
      "Interest Rate                0.0050     0.0069     0.7363     0.4616     -0.0084      0.0185\n",
      "EBITDA                       0.0002  9.673e-05     1.9199     0.0550   -3.94e-06      0.0004\n",
      "============================================================================================\n",
      "\n",
      "F-test for Poolability: 106.58\n",
      "P-value: 0.0000\n",
      "Distribution: F(68,3690)\n",
      "\n",
      "Included effects: Entity\n"
     ]
    },
    {
     "name": "stderr",
     "output_type": "stream",
     "text": [
      "/Users/christopher/opt/anaconda3/lib/python3.9/site-packages/linearmodels/panel/model.py:1260: MissingValueWarning: \n",
      "Inputs contain missing values. Dropping rows with missing observations.\n",
      "  super().__init__(dependent, exog, weights=weights, check_rank=check_rank)\n"
     ]
    }
   ],
   "source": [
    "# 1. Subset the DataFrame to Industrials only\n",
    "industrials_df = final_merged_df[final_merged_df['GICS Sector'] == 'Industrials'].copy()\n",
    "\n",
    "# 2. Convert 'Date' to datetime (if not already done)\n",
    "industrials_df['Date'] = pd.to_datetime(industrials_df['Date'], errors='coerce')\n",
    "\n",
    "# 3. Set the panel index using 'Ticker' and 'Date'\n",
    "panel_data = industrials_df.set_index(['Ticker', 'Date'])\n",
    "\n",
    "# 4.\n",
    "y = panel_data['Log_TobinsQ']\n",
    "X = panel_data[['Debt Ratio','DebtRatio_sq','Debt_EBITDA_Interaction', 'ROE','ROE_sq', 'Asset Tangibility','Industry_Median_Leverage' ,'Size','Size_sq', 'DPR', 'Log_NetIncome_Shifted', 'GDP_Growth_pct', 'VIX_Growth', 'RnDintensity', 'PEratio', 'Interest Rate', 'EBITDA']]\n",
    "\n",
    "# 5. Add a constant term to X\n",
    "X = sm.add_constant(X)\n",
    "\n",
    "# 6. Estimate the PanelOLS model with entity fixed effects\n",
    "mod = PanelOLS(y, X, entity_effects=True)\n",
    "res = mod.fit(cov_type='clustered', cluster_entity=True)\n",
    "\n",
    "# 7. Print the regression summary\n",
    "print(res.summary)"
   ]
  }
 ],
 "metadata": {
  "kernelspec": {
   "display_name": "base",
   "language": "python",
   "name": "python3"
  },
  "language_info": {
   "codemirror_mode": {
    "name": "ipython",
    "version": 3
   },
   "file_extension": ".py",
   "mimetype": "text/x-python",
   "name": "python",
   "nbconvert_exporter": "python",
   "pygments_lexer": "ipython3",
   "version": "3.9.13"
  }
 },
 "nbformat": 4,
 "nbformat_minor": 2
}
