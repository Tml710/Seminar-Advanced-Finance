{
 "cells": [
  {
   "cell_type": "code",
   "execution_count": 50,
   "metadata": {},
   "outputs": [],
   "source": [
    "import numpy as np\n",
    "import pandas as pd\n",
    "import statsmodels.api as sm\n",
    "from linearmodels.panel import PanelOLS"
   ]
  },
  {
   "cell_type": "code",
   "execution_count": 55,
   "metadata": {},
   "outputs": [],
   "source": [
    "final_merged_df = pd.read_csv('/Users/christopher/Desktop/Seminar-Advanced-Finance/finaldata.csv')"
   ]
  },
  {
   "cell_type": "code",
   "execution_count": 56,
   "metadata": {},
   "outputs": [
    {
     "name": "stdout",
     "output_type": "stream",
     "text": [
      "                          PanelOLS Estimation Summary                           \n",
      "================================================================================\n",
      "Dep. Variable:            Log_TobinsQ   R-squared:                        0.1362\n",
      "Estimator:                   PanelOLS   R-squared (Between):              0.2761\n",
      "No. Observations:               19940   R-squared (Within):               0.1362\n",
      "Date:                Sat, Mar 29 2025   R-squared (Overall):              0.2202\n",
      "Time:                        12:52:15   Log-likelihood                   -1188.1\n",
      "Cov. Estimator:             Clustered                                           \n",
      "                                        F-statistic:                      181.75\n",
      "Entities:                         334   P-value                           0.0000\n",
      "Avg Obs:                       59.701   Distribution:                F(17,19589)\n",
      "Min Obs:                       1.0000                                           \n",
      "Max Obs:                       101.00   F-statistic (robust):             26.784\n",
      "                                        P-value                           0.0000\n",
      "Time periods:                    1544   Distribution:                F(17,19589)\n",
      "Avg Obs:                       12.915                                           \n",
      "Min Obs:                       1.0000                                           \n",
      "Max Obs:                       231.00                                           \n",
      "                                                                                \n",
      "                                    Parameter Estimates                                     \n",
      "============================================================================================\n",
      "                          Parameter  Std. Err.     T-stat    P-value    Lower CI    Upper CI\n",
      "--------------------------------------------------------------------------------------------\n",
      "const                       -12.118     2.3632    -5.1278     0.0000     -16.750     -7.4858\n",
      "Debt Ratio                  -0.4867     0.1801    -2.7015     0.0069     -0.8398     -0.1336\n",
      "DebtRatio_sq                 0.1248     0.0910     1.3722     0.1700     -0.0535      0.3031\n",
      "Debt_EBITDA_Interaction      0.0024     0.0011     2.2354     0.0254      0.0003      0.0045\n",
      "ROE                      -8.267e-05     0.0010    -0.0847     0.9325     -0.0020      0.0018\n",
      "ROE_sq                    2.284e-05  5.848e-06     3.9050     0.0001   1.137e-05    3.43e-05\n",
      "Asset Tangibility            0.0373     0.0316     1.1791     0.2384     -0.0247      0.0992\n",
      "Industry_Median_Leverage     0.0290     0.0768     0.3773     0.7060     -0.1215      0.1795\n",
      "Size                         0.5099     0.0980     5.2017     0.0000      0.3178      0.7021\n",
      "Size_sq                     -0.0279     0.0055    -5.0851     0.0000     -0.0386     -0.0171\n",
      "DPR                         -0.0254     0.0068    -3.7402     0.0002     -0.0387     -0.0121\n",
      "Log_NetIncome_Shifted        1.0561     0.2231     4.7344     0.0000      0.6189      1.4934\n",
      "GDP_Growth_pct               0.0106     0.0009     11.429     0.0000      0.0088      0.0124\n",
      "VIX_Growth                  -0.0127     0.0026    -4.9341     0.0000     -0.0178     -0.0077\n",
      "RnDintensity                 13.738     2.1299     6.4500     0.0000      9.5629      17.912\n",
      "PEratio                   2.172e-05  1.472e-05     1.4756     0.1401   -7.13e-06   5.056e-05\n",
      "Interest Rate                0.0146     0.0025     5.7231     0.0000      0.0096      0.0196\n",
      "EBITDAmargin                -0.0004     0.0002    -2.1931     0.0283     -0.0007  -3.787e-05\n",
      "============================================================================================\n",
      "\n",
      "F-test for Poolability: 153.94\n",
      "P-value: 0.0000\n",
      "Distribution: F(333,19589)\n",
      "\n",
      "Included effects: Entity\n"
     ]
    },
    {
     "name": "stderr",
     "output_type": "stream",
     "text": [
      "/Users/christopher/opt/anaconda3/lib/python3.9/site-packages/linearmodels/panel/model.py:1260: MissingValueWarning: \n",
      "Inputs contain missing values. Dropping rows with missing observations.\n",
      "  super().__init__(dependent, exog, weights=weights, check_rank=check_rank)\n"
     ]
    }
   ],
   "source": [
    "# Ensure that 'Date' is in datetime format\n",
    "final_merged_df['Period End Date'] = pd.to_datetime(final_merged_df['Period End Date'], errors='coerce')\n",
    "\n",
    "# Set the panel index using 'Ticker_x' (firm identifier) and 'Date'\n",
    "panel_data = final_merged_df.set_index(['Instrument', 'Period End Date'])\n",
    "\n",
    "# Define the dependent variable (Market Value, proxied by 'Adj Close')\n",
    "y = panel_data['Log_TobinsQ']\n",
    "\n",
    "# Define the independent variables as per the model:\n",
    "X = panel_data[['Debt Ratio','DebtRatio_sq','Debt_EBITDA_Interaction', 'ROE','ROE_sq', 'Asset Tangibility','Industry_Median_Leverage' ,'Size','Size_sq', 'DPR', 'Log_NetIncome_Shifted', 'GDP_Growth_pct', 'VIX_Growth', 'RnDintensity', 'PEratio', 'Interest Rate', 'EBITDAmargin']]\n",
    "\n",
    "\n",
    "# Add a constant term to the independent variables\n",
    "X = sm.add_constant(X)\n",
    "\n",
    "# Estimate the PanelOLS model with entity fixed effects using the Date column as the time index\n",
    "mod = PanelOLS(y, X, entity_effects=True, check_rank=False)\n",
    "#mod = PanelOLS(y, X, entity_effects=True, time_effects=True, drop_absorbed=True)\n",
    "res = mod.fit(cov_type='clustered', cluster_entity=True)\n",
    "\n",
    "\n",
    "# Print the regression summary\n",
    "print(res.summary)"
   ]
  },
  {
   "cell_type": "code",
   "execution_count": 57,
   "metadata": {},
   "outputs": [
    {
     "name": "stderr",
     "output_type": "stream",
     "text": [
      "/Users/christopher/opt/anaconda3/lib/python3.9/site-packages/linearmodels/panel/model.py:1260: MissingValueWarning: \n",
      "Inputs contain missing values. Dropping rows with missing observations.\n",
      "  super().__init__(dependent, exog, weights=weights, check_rank=check_rank)\n"
     ]
    },
    {
     "name": "stdout",
     "output_type": "stream",
     "text": [
      "                          PanelOLS Estimation Summary                           \n",
      "================================================================================\n",
      "Dep. Variable:            Log_TobinsQ   R-squared:                        0.1567\n",
      "Estimator:                   PanelOLS   R-squared (Between):              0.2665\n",
      "No. Observations:               19446   R-squared (Within):               0.1567\n",
      "Date:                Sun, Mar 30 2025   R-squared (Overall):              0.2283\n",
      "Time:                        15:10:36   Log-likelihood                   -608.44\n",
      "Cov. Estimator:             Clustered                                           \n",
      "                                        F-statistic:                      197.16\n",
      "Entities:                         331   P-value                           0.0000\n",
      "Avg Obs:                       58.749   Distribution:                F(18,19097)\n",
      "Min Obs:                       1.0000                                           \n",
      "Max Obs:                      100.000   F-statistic (robust):             27.728\n",
      "                                        P-value                           0.0000\n",
      "Time periods:                    1512   Distribution:                F(18,19097)\n",
      "Avg Obs:                       12.861                                           \n",
      "Min Obs:                       1.0000                                           \n",
      "Max Obs:                       227.00                                           \n",
      "                                                                                \n",
      "                                     Parameter Estimates                                      \n",
      "==============================================================================================\n",
      "                            Parameter  Std. Err.     T-stat    P-value    Lower CI    Upper CI\n",
      "----------------------------------------------------------------------------------------------\n",
      "const                         -11.887     2.3326    -5.0959     0.0000     -16.459     -7.3147\n",
      "Debt Ratio                    -0.2307     0.1918    -1.2027     0.2291     -0.6066      0.1453\n",
      "DebtRatio_sq                   0.1070     0.0937     1.1416     0.2536     -0.0767      0.2906\n",
      "Debt_EBITDA_Interaction       -0.0060     0.0027    -2.2670     0.0234     -0.0112     -0.0008\n",
      "Debt_PE_lagged_interaction   1.42e-05  6.006e-06     2.3638     0.0181   2.425e-06   2.597e-05\n",
      "ROE                           -0.0002     0.0010    -0.1758     0.8605     -0.0021      0.0017\n",
      "ROE_sq                      2.429e-05  5.845e-06     4.1559     0.0000   1.283e-05   3.575e-05\n",
      "Asset Tangibility              0.0344     0.0296     1.1610     0.2457     -0.0237      0.0925\n",
      "Industry_Median_Leverage       0.0417     0.0715     0.5828     0.5601     -0.0985      0.1819\n",
      "Size                           0.5110     0.0969     5.2709     0.0000      0.3210      0.7010\n",
      "Size_sq                       -0.0281     0.0054    -5.2276     0.0000     -0.0387     -0.0176\n",
      "DPR                           -0.0265     0.0067    -3.9552     0.0001     -0.0397     -0.0134\n",
      "Log_NetIncome_Shifted          1.0164     0.2196     4.6288     0.0000      0.5860      1.4469\n",
      "GDP_Growth_pct                 0.0101     0.0009     10.606     0.0000      0.0082      0.0119\n",
      "VIX_Growth                    -0.0127     0.0026    -4.9626     0.0000     -0.0177     -0.0077\n",
      "RnDintensity                   14.808     1.9858     7.4570     0.0000      10.916      18.701\n",
      "PEratio                     1.979e-05  1.384e-05     1.4305     0.1526  -7.327e-06   4.691e-05\n",
      "Interest Rate                  0.0139     0.0024     5.6651     0.0000      0.0091      0.0187\n",
      "EBITDAmargin                   0.0063     0.0018     3.4931     0.0005      0.0028      0.0098\n",
      "==============================================================================================\n",
      "\n",
      "F-test for Poolability: 160.12\n",
      "P-value: 0.0000\n",
      "Distribution: F(330,19097)\n",
      "\n",
      "Included effects: Entity\n"
     ]
    }
   ],
   "source": [
    "# Ensure that 'Date' is in datetime format\n",
    "final_merged_df['Period End Date'] = pd.to_datetime(final_merged_df['Period End Date'], errors='coerce')\n",
    "\n",
    "# Set the panel index using 'Ticker_x' (firm identifier) and 'Date'\n",
    "panel_data = final_merged_df.set_index(['Instrument', 'Period End Date'])\n",
    "\n",
    "# Define the dependent variable (Market Value, proxied by 'Adj Close')\n",
    "y = panel_data['Log_TobinsQ']\n",
    "\n",
    "# Define the independent variables as per the model:\n",
    "X = panel_data[['Debt Ratio','DebtRatio_sq','Debt_EBITDA_Interaction', 'Debt_PE_lagged_interaction','ROE','ROE_sq', 'Asset Tangibility','Industry_Median_Leverage' ,'Size','Size_sq', 'DPR', 'Log_NetIncome_Shifted', 'GDP_Growth_pct', 'VIX_Growth', 'RnDintensity', 'PEratio', 'Interest Rate', 'EBITDAmargin']]\n",
    "\n",
    "\n",
    "# Add a constant term to the independent variables\n",
    "X = sm.add_constant(X)\n",
    "\n",
    "# Estimate the PanelOLS model with entity fixed effects using the Date column as the time index\n",
    "mod = PanelOLS(y, X, entity_effects=True, check_rank=False)\n",
    "#mod = PanelOLS(y, X, entity_effects=True, time_effects=True, drop_absorbed=True)\n",
    "res = mod.fit(cov_type='clustered', cluster_entity=True)\n",
    "\n",
    "\n",
    "# Print the regression summary\n",
    "print(res.summary)"
   ]
  }
 ],
 "metadata": {
  "kernelspec": {
   "display_name": "base",
   "language": "python",
   "name": "python3"
  },
  "language_info": {
   "codemirror_mode": {
    "name": "ipython",
    "version": 3
   },
   "file_extension": ".py",
   "mimetype": "text/x-python",
   "name": "python",
   "nbconvert_exporter": "python",
   "pygments_lexer": "ipython3",
   "version": "3.9.13"
  }
 },
 "nbformat": 4,
 "nbformat_minor": 2
}
